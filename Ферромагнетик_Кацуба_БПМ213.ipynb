{
 "cells": [
  {
   "cell_type": "markdown",
   "id": "b698fd64-2a72-4c31-868c-dd8ada50e242",
   "metadata": {},
   "source": [
    "# Кацуба Кирилл БПМ213\n",
    "# Энергия ферромагнетика 2D (2023)"
   ]
  },
  {
   "cell_type": "markdown",
   "id": "fe9d5632-1d5c-428a-9b1d-5bcfdb58cb72",
   "metadata": {},
   "source": [
    "### Условие задачи\n",
    "\n",
    "**Дано:**\n",
    "- двумерная решетка молекул, расположенных в узлах кристаллической решетки, размеров $L_x \\times L_y$ с периодическими границами\n",
    "- каждая молекула обладает спином +1 или -1\n",
    "- межмолекулярное взаимодействие описывается константами $J_{ij} = 1$\n",
    "- модель Изинга\n",
    "\n",
    "\n",
    "**Требуется:**\n",
    "- согласно модели Изинга рассчитать нормированное значение средней энергии $\\frac{\\langle E \\rangle}{Lx Ly}$ для указанной решетки молекул при:\n",
    "    - размерах решетки $L_x \\in [2, 3, ..., 8]$, $L_y = 4$\n",
    "    - температурах $kT \\in [1.0, 5.0)$ с шагом $0.1$\n",
    "- сохранить массив средних энергий при помощи `np.save`\n",
    "- вывести время расчета каждой итерации по $Lx$ или по $k T$\n",
    "- отобразить цветовую карту:\n",
    "    - ось абсцисс - $L_x$,\n",
    "    - ось ординат - $k T$,\n",
    "    - цветом отобразить нормированное значение средней энергии $\\frac{\\langle E \\rangle}{Lx Ly}$,\n",
    "    - подписать оси,\n",
    "    - отобразить цветовую шкалу (`colorbar`),\n",
    "    - засечки должны соответствовать значениям $Lx, kT$.\n",
    "- к каждой функции добавить `docstring` с описанием того, что функция делает, всех параметров и возвращаемого значения    \n",
    "\n",
    "**Описание:**\n",
    "\n",
    "**Одномерный случай**\n",
    "\n",
    "Модель Изинга является моделью магнетика. Пусть этот магнетик состоит из молекул, расположенных в узлах регулярной решетки. Пусть всего таких узлов будет $N$ штук, с индексами $i=1,\\ldots, N$.\n",
    "\n",
    "Предположим, что каждая молекула может быть представлена в виде магнитной стрелки, которая всегда либо направлена вдоль некоторой заданной оси, либо в противоположном направлении. То есть каждая молекула $i$ имеет две конфигурации, которые можно описывать с помощью \"спиновой\" переменной $\\sigma_i$. Эта переменная принимает значение $+1$ (параллельно оси, спин направлен вверх) и $-1$ (антипараллельно оси, спин направлен вниз).\n",
    "\n",
    "Пусть $\\sigma = \\{\\sigma_1, \\sigma_2, \\ldots, \\sigma_N\\}$ обозначает набор значений всех $N$ спинов. Имеется $2^N$ различных наборов $\\sigma$, и каждый из них описывает некоторое состояние системы. \n",
    "\n",
    "Гамильтониан системы  состоит из двух частей: первая $E_0$ включает вклад межмолекулярных сил внутри магнетика, а вторая $E_1(\\sigma)$ вклад от взаимодействий каждого спина с внешним магнитным полем (здесь считается нулевым). \n",
    "$$H(\\sigma)=E_0(\\sigma)+E_1(\\sigma)$$\n",
    "\n",
    "В любой физической системе мы предполагаем все взаимодействия инвариантными по отношению к обращению времени, что означает инвариантность $E$ при изменении знаков всех полей и намагниченностей. Энергия должна быть четной функцией от $\\sigma$:\n",
    "$$E_0(\\sigma_1,\\ldots, \\sigma_N)=E_0(-\\sigma_1,\\ldots, -\\sigma_N)$$\n",
    "\n",
    "Энергия системы при нулевом внешнем магнитном поле равна сумме произведений **соседних** спинов на константы взаимодействия $J_{ij}$\n",
    "$$E(\\sigma) = -\\sum_{i} J_{i,i+1}\\sigma_{i}\\sigma_{i+1} $$\n",
    "\n",
    "Вероятность находиться в состоянии $\\sigma$\n",
    "$$P(\\sigma)=\\frac{e^{-\\beta E(\\sigma)}}{Z},$$\n",
    "\tгде $Z = \\sum_{\\sigma} e^{-\\beta E(\\sigma)}-$ статистическая сумма, $\\beta = \\frac{1}{k T}-$ обратная температура, $k-$ константа Больцмана.\n",
    "\t\n",
    "Средняя энергия системы \n",
    "$$\\langle E \\rangle = \\frac{1}{Z}\\sum_{\\{\\sigma \\}} E(\\sigma)e^{-\\frac{E(\\sigma)}{kT}}$$\n",
    "рассчитывается по всевозможным состояниям системы, т.е. всевозможным наборам $\\sigma$.\n",
    "\n",
    "**Двумерный случай**\n",
    "\n",
    "В случае двумерной решетки энергия системы при нулевом внешнем магнитном поле вычисляется следующим образом: \n",
    "$$E(\\sigma) = -\\sum_{i,j} J_{ij}(\\sigma_{i,j}\\sigma_{i+1,j} + \\sigma_{i,j}\\sigma_{i,j+1})$$\n",
    "\n",
    "\n",
    "**Проверка корректности результатов**\n",
    "\n",
    "Нормированное значение средней энергии при температурах $kT \\in [1.0, 5.0)$:\n",
    "\n",
    "- для $L_x=4$\n",
    "\n",
    "```\n",
    " -1.99715844 -1.99396091 -1.98856632 -1.98016965 -1.96786355 -1.95064256\n",
    " -1.9274244  -1.89711215 -1.85871667 -1.81153907 -1.75538029 -1.69071311\n",
    " -1.61874282 -1.54131149 -1.46065977 -1.37911648 -1.29880759 -1.22145424\n",
    " -1.14828469 -1.0800446  -1.01706963 -0.95938399 -0.90679838 -0.85899291\n",
    " -0.8155803  -0.77615005 -0.74029707 -0.70763857 -0.67782287 -0.65053286\n",
    " -0.62548613 -0.60243323 -0.58115501 -0.56145948 -0.5431787  -0.52616582\n",
    " -0.5102923  -0.49544555 -0.48152673 -0.46844889\n",
    "```\n",
    "\n",
    "- для $L_x=5$\n",
    "\n",
    "```\n",
    " -1.99715893 -1.99396296 -1.98857263 -1.98018387 -1.96788363 -1.95063964\n",
    " -1.92729692 -1.89661121 -1.85735639 -1.80853133 -1.74965024 -1.68103752\n",
    " -1.60399878 -1.52075577 -1.43412763 -1.3470633  -1.26219309 -1.18153361\n",
    " -1.10638872 -1.03740747 -0.97472647 -0.918132   -0.86720255 -0.82141645\n",
    " -0.78022445 -0.74309384 -0.70953215 -0.67909749 -0.65140075 -0.62610332\n",
    " -0.60291264 -0.58157686 -0.56187952 -0.54363452 -0.52668165 -0.51088271\n",
    " -0.49611811 -0.48228409 -0.46929029 -0.45705774\n",
    "```\n",
    "\n",
    "**Материалы:**\n",
    "- [Бэкстер Р., Вольский Е. П., Дайхин Л. И. Точно решаемые модели в статистической механике](https://yadi.sk/i/2oY4c0bL08pNiw)\n",
    "- [Пример хорошего `docstring`](https://github.com/numpy/numpy/blob/v1.21.0/numpy/linalg/linalg.py#L313-L395)\n",
    "- [Зиннуров Б.Д., Якименко В.Я. Магнитные свойства модели Изинга в низких размерностях (МКР)](https://miem.hse.ru/data/2018/05/24/1149431665/model_Izinga_-_Zinnurov_Yakimenko.pdf)\n",
    "\n",
    "\n",
    "**Правила оценивания:**\n",
    "\n",
    "- оценка за корректно выполненный расчет для количества молекул в цепочке $L_x$, баллов из 100:\n",
    "```\n",
    "    Lx    =   2,   3,   4,   5,    6,    7,     8\n",
    "    g(Lx) = 1.0, 1.8, 3.3, 6.4, 12.6, 24.9,  50.0\n",
    "```\n",
    "    \n",
    "- штрафы $p(i)$, баллов:\n",
    "    - не выведено время расчета - 20\n",
    "    - не выведены значения средней энергии - 20\n",
    "    - не построена карта - 20\n",
    "    - отсутствует `docstring` - 20\n",
    "    - менее значимые недоработки - 10\n",
    "\n",
    "\n",
    "- итоговая оценка за задание = $\\sum_{Lx=2}^{8}{g(Lx)} - \\sum_{i}{p(i)}$\n"
   ]
  },
  {
   "cell_type": "code",
   "execution_count": 1,
   "id": "5ce2f826",
   "metadata": {},
   "outputs": [],
   "source": [
    "from itertools import product\n",
    "import time\n",
    "from math import exp\n",
    "import numpy as np\n",
    "from numba import njit, prange\n",
    "from tqdm import trange\n",
    "import matplotlib.pyplot as plt"
   ]
  },
  {
   "cell_type": "markdown",
   "id": "6ce16481",
   "metadata": {},
   "source": [
    "# Основная задача"
   ]
  },
  {
   "cell_type": "code",
   "execution_count": 2,
   "id": "1cdc9c79",
   "metadata": {},
   "outputs": [],
   "source": [
    "@njit\n",
    "def energy(sigma: np.ndarray, Lx: int, Ly: int) -> int:\n",
    "    \"\"\"\n",
    "    Функция для подсчета энергии одной конфигурации спинов\n",
    "    для двумерной периодической решетки, по следующей формуле:\n",
    "    energy = - summ(Jij * (sigma[i,j] * sigma[i + 1, j] + sigma[i,j] * sigma[i, j + 1])) \n",
    "    Jij = 1 для всех i, j. Jij - межмолекулярное взаимодействие описывается константами, \n",
    "    sigma[i, j] - спин моллекулы (i, j).\n",
    "    \n",
    "    Параментры\n",
    "    ----------\n",
    "    sigma - двумерный массив спинов моллекул\n",
    "    Lx - длина решетки по оси абсцисс\n",
    "    Ly - длина решетки по оси ординат\n",
    "    \n",
    "    Возвращаемое значение\n",
    "    ---------------------\n",
    "    Энергия посчитанная для конфигурации спинов sigma размера Lx * Ly.\n",
    "    \"\"\"\n",
    "    E = 0\n",
    "    \n",
    "    for i in range(Lx):\n",
    "        for j in range(Ly):\n",
    "            E -= sigma[i,j] * sigma[(i + 1) % Lx, j] + sigma[i,j] * sigma[i, (j + 1) % Ly]\n",
    "    return E"
   ]
  },
  {
   "cell_type": "code",
   "execution_count": 3,
   "id": "0fe04bc1",
   "metadata": {},
   "outputs": [],
   "source": [
    "@njit\n",
    "def int2array(x: int, Lx: int, Ly: int) -> np.ndarray:\n",
    "    \"\"\"\n",
    "    Функция для генирации конфигурации спинов с помощью преобразования некоторого \n",
    "    целого числа x в массив состоящий из чисел -1 и 1. Данное преобразование \n",
    "    проводится с помощью бинарной операции \"побитовое и\" &. Функция действует так, что для\n",
    "    фиксированного Lx и Ly генерация конфигурации спинов для любого x от 1 до 2^{Lx * Ly - 1}\n",
    "    полученная конфигурация будет уникальной. \n",
    "    \n",
    "    Таким образом, далее в решении задачи, используя данную функцию в цикле,\n",
    "    мы переберем все возможные конфигурации спинов для заданных размеров, учитываю что\n",
    "    функция энергия четная (то есть перебор можно уменьшить в 2 раза).\n",
    "    \n",
    "    Параментры\n",
    "    ----------\n",
    "    x - целое число, которое преобразовывается в массив\n",
    "    Lx - длина решетки по оси абсцисс\n",
    "    Ly - длина решетки по оси ординат\n",
    "    \n",
    "    Возвращаемое значение\n",
    "    ---------------------\n",
    "    Массив размера Lx * Ly конфигурации спинов.\n",
    "    \"\"\"\n",
    "    n = Lx * Ly\n",
    "    res = np.empty((Lx, Ly), dtype=np.int8)\n",
    "    for i in range(Lx):\n",
    "        for j in range(Ly):\n",
    "            res[i][j] = (x & 1) * 2 - 1\n",
    "            x = x >> 1\n",
    "    return res"
   ]
  },
  {
   "cell_type": "code",
   "execution_count": 4,
   "id": "bda0f825",
   "metadata": {},
   "outputs": [],
   "source": [
    "@njit(parallel=True)\n",
    "def mean_energy(kT: float, Lx: int, Ly: int) -> float:\n",
    "    \"\"\"\n",
    "    Функция для подсчета средней энергии системы\n",
    "    для двумерной периодической решетки, по следующей формуле:\n",
    "    mean_energy = (- 1 / Z) * summ(energy(sigma) * exp(- energy(sigma) / kT)) - сумма по всем \n",
    "    конфигурациям sigma. Z = summ(exp(- energy(sigma) / kT)) - сумма по всем конфигурациям sigma, \n",
    "    energy(sigma) - энергия одной конфигурации спинов sigma.\n",
    "\n",
    "    Параментры\n",
    "    ----------\n",
    "    kT - температура системы\n",
    "    Lx - длина решетки по оси абсцисс\n",
    "    Ly - длина решетки по оси ординат\n",
    "    \n",
    "    Возвращаемое значение\n",
    "    ---------------------\n",
    "    Нормированная средняя энергия всей заданной системы моллекул размера Lx * Ly.\n",
    "    \"\"\"\n",
    "    E_mean = 0\n",
    "    Z = 0\n",
    "    n = Lx * Ly\n",
    "    for sigma in prange(2**(n-1)):\n",
    "        E = energy(int2array(sigma, Lx, Ly), Lx, Ly)\n",
    "        e = exp(-E / kT)\n",
    "        E_mean += E * e\n",
    "        Z += e\n",
    "    E_mean /= Z\n",
    "    return E_mean / n"
   ]
  },
  {
   "cell_type": "code",
   "execution_count": 6,
   "id": "ab498cc5",
   "metadata": {},
   "outputs": [
    {
     "name": "stderr",
     "output_type": "stream",
     "text": [
      "100%|█████████████████████████████████████████| 40/40 [00:00<00:00, 6591.97it/s]\n",
      "100%|█████████████████████████████████████████| 40/40 [00:00<00:00, 4276.74it/s]\n",
      "100%|█████████████████████████████████████████| 40/40 [00:00<00:00, 1127.55it/s]\n",
      "100%|███████████████████████████████████████████| 40/40 [00:00<00:00, 73.17it/s]\n",
      "100%|███████████████████████████████████████████| 40/40 [00:08<00:00,  4.66it/s]\n",
      "100%|███████████████████████████████████████████| 40/40 [02:28<00:00,  3.71s/it]\n",
      "100%|███████████████████████████████████████████| 40/40 [43:22<00:00, 65.07s/it]\n"
     ]
    }
   ],
   "source": [
    "ans = np.empty((7, 40), dtype=float)\n",
    "for x in range(2, 9):\n",
    "    for kt in trange(10, 50):\n",
    "        ans[x - 2, kt - 10] = mean_energy(kt/10, x, 4)"
   ]
  },
  {
   "cell_type": "markdown",
   "id": "4282878b",
   "metadata": {},
   "source": [
    "Сохранеям полученный результат"
   ]
  },
  {
   "cell_type": "code",
   "execution_count": 136,
   "id": "da9b9d6f",
   "metadata": {},
   "outputs": [],
   "source": [
    "np.save('/Users/kirill/edu/3course/CP3/HW_3/Ising_model.npy', ans)"
   ]
  },
  {
   "cell_type": "code",
   "execution_count": 6,
   "id": "c58019ca",
   "metadata": {},
   "outputs": [
    {
     "name": "stdout",
     "output_type": "stream",
     "text": [
      "Время расчета средней энергии для kT = 3.4, Lx = 2: 0.0001480579376220703 секунд\n",
      "Время расчета средней энергии для kT = 3.4, Lx = 3: 0.0003170967102050781 секунд\n",
      "Время расчета средней энергии для kT = 3.4, Lx = 4: 0.002496004104614258 секунд\n",
      "Время расчета средней энергии для kT = 3.4, Lx = 5: 0.021241188049316406 секунд\n",
      "Время расчета средней энергии для kT = 3.4, Lx = 6: 0.16224193572998047 секунд\n",
      "Время расчета средней энергии для kT = 3.4, Lx = 7: 3.6884169578552246 секунд\n",
      "Время расчета средней энергии для kT = 3.4, Lx = 8: 62.17241811752319 секунд\n"
     ]
    }
   ],
   "source": [
    "for x in range(2, 9):\n",
    "    start = time.time()\n",
    "    mean_energy(3.4, x, 4)\n",
    "    print(f\"Время расчета средней энергии для kT = 3.4, Lx = {x}: {time.time() - start} секунд\")"
   ]
  },
  {
   "cell_type": "markdown",
   "id": "1ad46a08",
   "metadata": {},
   "source": [
    "Убедимся в правильности расчетов, сравним результаты с преведенными в условии для Lx = 4, Lx = 5."
   ]
  },
  {
   "cell_type": "code",
   "execution_count": 6,
   "id": "de6606a3",
   "metadata": {},
   "outputs": [
    {
     "name": "stdout",
     "output_type": "stream",
     "text": [
      "Lx = 4\n",
      "[-1.99715844 -1.99396091 -1.98856632 -1.98016965 -1.96786355 -1.95064256\n",
      " -1.9274244  -1.89711215 -1.85871667 -1.81153907 -1.75538029 -1.69071311\n",
      " -1.61874282 -1.54131149 -1.46065977 -1.37911648 -1.29880759 -1.22145424\n",
      " -1.14828469 -1.0800446  -1.01706963 -0.95938399 -0.90679838 -0.85899291\n",
      " -0.8155803  -0.77615005 -0.74029707 -0.70763857 -0.67782287 -0.65053286\n",
      " -0.62548613 -0.60243323 -0.58115501 -0.56145948 -0.5431787  -0.52616582\n",
      " -0.5102923  -0.49544555 -0.48152673 -0.46844889]\n",
      "\n",
      "Lx = 5\n",
      "[-1.99715893 -1.99396296 -1.98857263 -1.98018387 -1.96788363 -1.95063964\n",
      " -1.92729692 -1.89661121 -1.85735639 -1.80853133 -1.74965024 -1.68103752\n",
      " -1.60399878 -1.52075577 -1.43412763 -1.3470633  -1.26219309 -1.18153361\n",
      " -1.10638872 -1.03740747 -0.97472647 -0.918132   -0.86720255 -0.82141645\n",
      " -0.78022445 -0.74309384 -0.70953215 -0.67909749 -0.65140075 -0.62610332\n",
      " -0.60291264 -0.58157686 -0.56187952 -0.54363452 -0.52668165 -0.51088271\n",
      " -0.49611811 -0.48228409 -0.46929029 -0.45705774]\n",
      "\n",
      "Результаты совпали\n"
     ]
    }
   ],
   "source": [
    "ising_model = np.load('/Users/kirill/edu/3course/CP3/HW_3/Ising_model.npy')\n",
    "print(f'Lx = 4\\n{ising_model[2]}\\n\\nLx = 5\\n{ising_model[3]}\\n\\nРезультаты совпали')"
   ]
  },
  {
   "cell_type": "markdown",
   "id": "be1b81c3",
   "metadata": {},
   "source": [
    "## Построение карты, отображающей средние энергии системы в завсисимости от размера Lx и температуры kT"
   ]
  },
  {
   "cell_type": "code",
   "execution_count": 8,
   "id": "2b9f4b93",
   "metadata": {},
   "outputs": [
    {
     "data": {
      "image/png": "[encoded data removed]",
      "text/plain": [
       "<Figure size 640x480 with 2 Axes>"
      ]
     },
     "metadata": {},
     "output_type": "display_data"
    }
   ],
   "source": [
    "plt.pcolormesh(np.arange(2,9), np.linspace(1, 4.9, 40), ising_model.transpose())\n",
    "plt.colorbar()\n",
    "plt.title(\"Карта нормированных средних энергий системы (точное вычисление)\")\n",
    "plt.xlabel(\"Lx\")\n",
    "plt.ylabel(\"kT\")\n",
    "None"
   ]
  },
  {
   "cell_type": "markdown",
   "id": "96732513",
   "metadata": {},
   "source": [
    "## Алгоритм Метрополис"
   ]
  },
  {
   "cell_type": "markdown",
   "id": "d7127d4a",
   "metadata": {},
   "source": [
    "Как мы видим вычисления средней энергии для Lx > 5 тратится достаточно большое время (относительно других размерностей). \n",
    "\n",
    "Поэтому будем применять алгоритм Метрополиса для того, чтобы ускорить вычисления для Lx > 5, кратко опишем что необходимо сделать:\n",
    "1. Сначала генерируем случайную (равномерное распределние) начальную конфигурацию спинов для решетки Lx * Ly, считаем энергию $E_{0}$ для данной конфигурации.\n",
    "2. Затем выбираем случайный спин из имеющихся N спинов и меняем его значение $\\sigma_{k}$ на противоположное $-\\sigma_{k}$. Считаем энергию $E_{1}$ новой конфигурации.\n",
    "3. Считаем разность двух энергий $\\Delta E = E_{1} - E_{0}$. Далее считаем вероятность перехода системы из одного состояние в другое $P = e^{-\\beta \\Delta E}$:\n",
    "    1. Если $\\Delta E\\leq0$, то преобразование спина $\\sigma_{k}$ принимается. Тогда считается новая средняя энергия и алгоритм продолжается (повторяем шаги 2-3).\n",
    "    2. Если $\\Delta E>0$, то генерится случайное число $r$, и если $r \\leq P$ преобразование спина $\\sigma_{k}$ принимается, иначе оставляем спин неповернутым, считаем среднюю энергию и алгоритм продолжается (повторяем шаги 2-3).\n",
    "    \n",
    "Но стоит отметить, что все алгоритмы описанные ниже используют Монте-Карло и Метрополис для больших систем 100 * 100, 1000 * 1000. Так же в изученных статьях указано, что для маленких систем (как раз такие и описываются в поставленной задаче) выше описанный алгоритм будет давать погрешность в измерениях.\n",
    "\n",
    "Источники: \n",
    "1. [Ising model github repository](https://rajeshrinet.github.io/blog/2014/ising-model/)\n",
    "2. [The Ising model The Metropolis algorithm, University of British Columbia](https://phas.ubc.ca/~rozali/8.pdf)\n",
    "3. [Monte Carlo, Metropolis and the Ising Model](https://sites.physics.wustl.edu/gradcomputer/wiki/images/6/63/Ising_notes_v2.pdf)\n",
    "4. [Numerical Solutions to the Ising Model using the Metropolis Algorithm](https://www.maths.tcd.ie/~dbennett/js/ising.pdf)"
   ]
  },
  {
   "cell_type": "code",
   "execution_count": 9,
   "id": "289ca04b",
   "metadata": {},
   "outputs": [],
   "source": [
    "def metropolis_algorithm(Lx: int, Ly: int, kT: float) -> float:\n",
    "    \"\"\"\n",
    "    Применяется метод Монте-Карло, используя алгоритм Метрополис,\n",
    "    для модели Изинга, по алгоритму (более подробно представлен выше):\n",
    "    \n",
    "    1. Генерируем случайную конфигурацию спинов, с энегрией E0\n",
    "    2. Выбираем случайный спин, меняем его значение Sk на -Sk, E1 - энергия новой конфигурации\n",
    "    3. Разность двух энергий dE = E1 - E0, вероятность P = exp(-beta * dE):\n",
    "    4. dE <= 0, то преобразование спина Sk принимается.\n",
    "    5. dE >= 0, генирим случайное r:\n",
    "        r <= P - конфигурация принимается\n",
    "        иначе конфигурация не принимается\n",
    "    6. Считаем среднюю энергию\n",
    "    7. Повторяем 2-6\n",
    "    \n",
    "    Параментры\n",
    "    ----------\n",
    "    Lx -длина решетки по оси абсцисс\n",
    "    Ly - длина решетки по оси ординат\n",
    "    kT - температура\n",
    "    \n",
    "    Возвращаемое значение\n",
    "    ---------------------\n",
    "    Нормированная средняя энергия посчитанная для заданного Lx, Ly и kT.\n",
    "    \"\"\"\n",
    "    n = Lx * Ly\n",
    "    sigma =  np.random.random((Lx,Ly))\n",
    "    for i in range(Lx):\n",
    "        for j in range(Ly):\n",
    "            if sigma[i,j] <= 0.5:\n",
    "                sigma[i,j] = 1\n",
    "            else:\n",
    "                sigma[i,j] = -1\n",
    "    E = energy(sigma, Lx, Ly)\n",
    "    mean_energy = np.exp((-1 / kT) * E) * E\n",
    "    Z = np.exp((-1 / kT) * E)\n",
    "    for i in range(250):\n",
    "        x_cord = np.random.randint(Lx)\n",
    "        y_cord = np.random.randint(Ly)\n",
    "\n",
    "        dE = 2 * sigma[x_cord,y_cord] * (sigma[x_cord, (y_cord + 1) % Ly] + \\\n",
    "                                         sigma[(x_cord + 1) % Lx, y_cord] +\n",
    "                                         sigma[x_cord, (y_cord - 1) % Ly] +\n",
    "                                         sigma[(x_cord - 1) % Lx, y_cord])\n",
    "        if dE <= 0:\n",
    "            sigma[x_cord, y_cord] *= -1\n",
    "            E = energy(sigma, Lx, Ly)\n",
    "            Z += np.exp((-1 / kT) * E)\n",
    "            mean_energy += np.exp((-1 / kT) * E) * E\n",
    "        else:\n",
    "            r = np.random.random()\n",
    "            if r <= np.exp((-1 / kT) * dE):\n",
    "                sigma[x_cord, y_cord] *= -1\n",
    "                E = energy(sigma, Lx, Ly)\n",
    "                Z += np.exp((-1 / kT) * E)\n",
    "                mean_energy += np.exp((-1 / kT) * E) * E\n",
    "    return mean_energy / (Z*n)"
   ]
  },
  {
   "cell_type": "markdown",
   "id": "b31a539e",
   "metadata": {},
   "source": [
    "Так как постоянно генерятся случайные конфигурации сигма, то для каждого набора x и kT будем в качестве средней энергии брать срреднее по 300 вычислениям алгоритма Метрополиса"
   ]
  },
  {
   "cell_type": "code",
   "execution_count": 10,
   "id": "3ae7533a",
   "metadata": {},
   "outputs": [
    {
     "name": "stderr",
     "output_type": "stream",
     "text": [
      "100%|███████████████████████████████████████████| 40/40 [00:17<00:00,  2.23it/s]\n",
      "100%|███████████████████████████████████████████| 40/40 [00:17<00:00,  2.26it/s]\n",
      "100%|███████████████████████████████████████████| 40/40 [00:17<00:00,  2.25it/s]\n",
      "100%|███████████████████████████████████████████| 40/40 [00:17<00:00,  2.24it/s]\n",
      "100%|███████████████████████████████████████████| 40/40 [00:17<00:00,  2.24it/s]\n",
      "100%|███████████████████████████████████████████| 40/40 [00:17<00:00,  2.23it/s]\n",
      "100%|███████████████████████████████████████████| 40/40 [00:18<00:00,  2.22it/s]\n"
     ]
    }
   ],
   "source": [
    "\n",
    "ans = np.empty((7, 40), dtype=float)\n",
    "for x in range(2, 9):\n",
    "    for kt in trange(10, 50):\n",
    "        tmp = 0\n",
    "        for n in range(300):\n",
    "            tmp += metropolis_algorithm(x, 4, kt/10)\n",
    "        ans[x - 2, kt - 10] = tmp / 300\n",
    "np.save('/Users/kirill/edu/3course/CP3/HW_3/Ising_model_metropolis.npy', ans)"
   ]
  },
  {
   "cell_type": "code",
   "execution_count": 13,
   "id": "0642e413",
   "metadata": {},
   "outputs": [],
   "source": [
    "ising_model_metropolis = np.load('/Users/kirill/edu/3course/CP3/HW_3/Ising_model_metropolis.npy')"
   ]
  },
  {
   "cell_type": "code",
   "execution_count": 14,
   "id": "b7e4fe7c",
   "metadata": {},
   "outputs": [
    {
     "name": "stdout",
     "output_type": "stream",
     "text": [
      "Время расчета средней энергии (Алгоритм Метрополис, 1 круг) для kT = 3.4, Lx = 2: 0.0030393600463867188 секунд\n",
      "Время расчета средней энергии (Алгоритм Метрополис, 1 круг) для kT = 3.4, Lx = 3: 0.004181861877441406 секунд\n",
      "Время расчета средней энергии (Алгоритм Метрополис, 1 круг) для kT = 3.4, Lx = 4: 0.004430055618286133 секунд\n",
      "Время расчета средней энергии (Алгоритм Метрополис, 1 круг) для kT = 3.4, Lx = 5: 0.003634929656982422 секунд\n",
      "Время расчета средней энергии (Алгоритм Метрополис, 1 круг) для kT = 3.4, Lx = 6: 0.0036928653717041016 секунд\n",
      "Время расчета средней энергии (Алгоритм Метрополис, 1 круг) для kT = 3.4, Lx = 7: 0.0026121139526367188 секунд\n",
      "Время расчета средней энергии (Алгоритм Метрополис, 1 круг) для kT = 3.4, Lx = 8: 0.0022852420806884766 секунд\n"
     ]
    }
   ],
   "source": [
    "for x in range(2, 9):\n",
    "    start = time.time()\n",
    "    metropolis_algorithm(x, 4, 3.4)\n",
    "    print(f\"Время расчета средней энергии (Алгоритм Метрополис, 1 круг) для kT = 3.4, Lx = {x}: {time.time() - start} секунд\")"
   ]
  },
  {
   "cell_type": "code",
   "execution_count": 15,
   "id": "023e66c0",
   "metadata": {},
   "outputs": [
    {
     "data": {
      "image/png": "[encoded data removed]",
      "text/plain": [
       "<Figure size 640x480 with 2 Axes>"
      ]
     },
     "metadata": {},
     "output_type": "display_data"
    },
    {
     "data": {
      "image/png": "[encoded data removed]",
      "text/plain": [
       "<Figure size 640x480 with 2 Axes>"
      ]
     },
     "metadata": {},
     "output_type": "display_data"
    }
   ],
   "source": [
    "plt.figure()\n",
    "plt.pcolormesh(np.arange(2,9), np.linspace(1, 4.9, 40), ising_model_metropolis.transpose())\n",
    "plt.colorbar()\n",
    "plt.title(\"Карта нормированных средних энергий системы (Алгоритм Метрополис)\")\n",
    "plt.xlabel(\"Lx\")\n",
    "plt.ylabel(\"kT\")\n",
    "None\n",
    "\n",
    "plt.figure()\n",
    "plt.pcolormesh(np.arange(2,9), np.linspace(1, 4.9, 40), ising_model.transpose())\n",
    "plt.colorbar()\n",
    "plt.title(\"Карта нормированных средних энергий системы (точное вычисление)\")\n",
    "plt.xlabel(\"Lx\")\n",
    "plt.ylabel(\"kT\")\n",
    "None"
   ]
  }
 ],
 "metadata": {
  "kernelspec": {
   "display_name": "Python 3 (ipykernel)",
   "language": "python",
   "name": "python3"
  },
  "language_info": {
   "codemirror_mode": {
    "name": "ipython",
    "version": 3
   },
   "file_extension": ".py",
   "mimetype": "text/x-python",
   "name": "python",
   "nbconvert_exporter": "python",
   "pygments_lexer": "ipython3",
   "version": "3.11.1"
  }
 },
 "nbformat": 4,
 "nbformat_minor": 5
}
